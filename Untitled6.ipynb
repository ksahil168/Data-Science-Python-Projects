{
 "cells": [
  {
   "cell_type": "code",
   "execution_count": 4,
   "metadata": {},
   "outputs": [
    {
     "ename": "SyntaxError",
     "evalue": "invalid syntax (<ipython-input-4-9f842520848f>, line 7)",
     "output_type": "error",
     "traceback": [
      "\u001b[1;36m  File \u001b[1;32m\"<ipython-input-4-9f842520848f>\"\u001b[1;36m, line \u001b[1;32m7\u001b[0m\n\u001b[1;33m    else count == False and nums[i] == 7:\u001b[0m\n\u001b[1;37m         ^\u001b[0m\n\u001b[1;31mSyntaxError\u001b[0m\u001b[1;31m:\u001b[0m invalid syntax\n"
     ]
    }
   ],
   "source": [
    "def sum67(nums):\n",
    "  sum = 0\n",
    "  count = True\n",
    "  for i in range(0, len[nums], 1):\n",
    "    if nums[i] == 6:\n",
    "      count = False\n",
    "    else count == False and nums[i] == 7:\n",
    "      count = True\n",
    "    else count == True:\n",
    "      sum = sum + nums[i]\n",
    "  return sum"
   ]
  },
  {
   "cell_type": "code",
   "execution_count": 5,
   "metadata": {},
   "outputs": [],
   "source": [
    "def has22(nums):\n",
    "  \n",
    "  for i in range(0, len(nums),1):\n",
    "   if nums[i] ==2 and nums[i+1] == 2:\n",
    "     return True\n",
    "   else:\n",
    "     return False\n",
    "     \n",
    "  \n"
   ]
  },
  {
   "cell_type": "code",
   "execution_count": 7,
   "metadata": {},
   "outputs": [],
   "source": [
    "def cigar_party(cigars, is_weekend):\n",
    "  party = False\n",
    "  is_weekend = False\n",
    "  if (cigars >=40 and cigars <= 60) :\n",
    "    party = True \n",
    "  elif party == False and is_weekend == True:\n",
    "    party = True\n",
    "  \n",
    "  return False\n"
   ]
  }
 ],
 "metadata": {
  "kernelspec": {
   "display_name": "Python 3",
   "language": "python",
   "name": "python3"
  }
 },
 "nbformat": 4,
 "nbformat_minor": 4
}
