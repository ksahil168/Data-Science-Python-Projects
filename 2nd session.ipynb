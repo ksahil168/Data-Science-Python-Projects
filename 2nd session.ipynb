{
 "cells": [
  {
   "cell_type": "markdown",
   "metadata": {},
   "source": [
    "a = 10\n",
    "b = 20\n",
    "c = a+b\n",
    " print(\"sum\", c)\n",
    " print (\"bye\")"
   ]
  },
  {
   "cell_type": "code",
   "execution_count": 1,
   "metadata": {},
   "outputs": [
    {
     "name": "stdout",
     "output_type": "stream",
     "text": [
      "sum 30\n",
      "bye\n"
     ]
    }
   ],
   "source": [
    "a = 10\n",
    "b = 20 \n",
    "c = a+b \n",
    "print(\"sum\", c) \n",
    "print (\"bye\")"
   ]
  },
  {
   "cell_type": "code",
   "execution_count": 2,
   "metadata": {},
   "outputs": [
    {
     "name": "stdout",
     "output_type": "stream",
     "text": [
      "area 28.285714285714285\n",
      "perimeter 18.857142857142858\n"
     ]
    }
   ],
   "source": [
    "r = 3\n",
    "area = 22/7*r**2\n",
    "perimeter = 2*22/7*r\n",
    "print (\"area\", area)\n",
    "print(\"perimeter\", perimeter)"
   ]
  },
  {
   "cell_type": "code",
   "execution_count": 3,
   "metadata": {},
   "outputs": [
    {
     "ename": "NameError",
     "evalue": "name 'age' is not defined",
     "output_type": "error",
     "traceback": [
      "\u001b[1;31m---------------------------------------------------------------------------\u001b[0m",
      "\u001b[1;31mNameError\u001b[0m                                 Traceback (most recent call last)",
      "\u001b[1;32m<ipython-input-3-bb9deee08909>\u001b[0m in \u001b[0;36m<module>\u001b[1;34m\u001b[0m\n\u001b[1;32m----> 1\u001b[1;33m \u001b[0mprint\u001b[0m \u001b[1;33m(\u001b[0m\u001b[1;34m\"your age ? =\"\u001b[0m\u001b[1;33m,\u001b[0m \u001b[0mage\u001b[0m\u001b[1;33m)\u001b[0m\u001b[1;33m\u001b[0m\u001b[1;33m\u001b[0m\u001b[0m\n\u001b[0m\u001b[0;32m      2\u001b[0m \u001b[1;32mif\u001b[0m \u001b[0mage\u001b[0m \u001b[1;33m>=\u001b[0m\u001b[1;36m18\u001b[0m\u001b[1;33m:\u001b[0m\u001b[1;33m\u001b[0m\u001b[1;33m\u001b[0m\u001b[0m\n\u001b[0;32m      3\u001b[0m     \u001b[0mprint\u001b[0m\u001b[1;33m(\u001b[0m\u001b[1;34m\"you are not an adult\"\u001b[0m\u001b[1;33m)\u001b[0m\u001b[1;33m\u001b[0m\u001b[1;33m\u001b[0m\u001b[0m\n\u001b[0;32m      4\u001b[0m \u001b[1;32melse\u001b[0m\u001b[1;33m:\u001b[0m\u001b[1;33m\u001b[0m\u001b[1;33m\u001b[0m\u001b[0m\n\u001b[0;32m      5\u001b[0m         \u001b[0mprint\u001b[0m\u001b[1;33m(\u001b[0m\u001b[1;34m\"you are an adult\"\u001b[0m\u001b[1;33m)\u001b[0m\u001b[1;33m\u001b[0m\u001b[1;33m\u001b[0m\u001b[0m\n",
      "\u001b[1;31mNameError\u001b[0m: name 'age' is not defined"
     ]
    }
   ],
   "source": [
    "print (\"your age ? =\", age)\n",
    "if age >=18:\n",
    "    print(\"you are not an adult\")\n",
    "else:\n",
    "        print(\"you are an adult\")"
   ]
  },
  {
   "cell_type": "code",
   "execution_count": null,
   "metadata": {},
   "outputs": [],
   "source": []
  },
  {
   "cell_type": "code",
   "execution_count": null,
   "metadata": {},
   "outputs": [],
   "source": [
    "a = 10\n",
    "b= 20\n",
    "c = 30\n",
    "if a<b:\n",
    "    print (\"success\")\n",
    "    if a<c:\n",
    "        print (\"hello\")\n",
    "    else :print(\"ok\")\n",
    "else: print(\"done\")            \n",
    "            \n",
    "            "
   ]
  },
  {
   "cell_type": "code",
   "execution_count": null,
   "metadata": {},
   "outputs": [],
   "source": [
    "number = 0, sum1 = 0, 0\n",
    "    list=[]\n",
    "while number != -999\n",
    "    number= int(input(\"please enter a number\"))\n",
    "    if number != -999\n",
    "       list 1.append(number)\n",
    "    sum+=number\n",
    "print(list)\n",
    "print(\"average of number is \" , sum/100)"
   ]
  },
  {
   "cell_type": "code",
   "execution_count": null,
   "metadata": {},
   "outputs": [],
   "source": [
    "tup= (10, 20, 30, \"india\",\"india\", \"china\")\n",
    "len(tup)"
   ]
  },
  {
   "cell_type": "code",
   "execution_count": null,
   "metadata": {},
   "outputs": [],
   "source": [
    "d={(input(\"enter emplyee id\" ), input(\"nter name\")}"
   ]
  },
  {
   "cell_type": "code",
   "execution_count": null,
   "metadata": {},
   "outputs": [],
   "source": [
    "d={(input(\"enter emplyee id\" ), input(\"nter name\"))}"
   ]
  },
  {
   "cell_type": "code",
   "execution_count": null,
   "metadata": {},
   "outputs": [],
   "source": []
  },
  {
   "cell_type": "code",
   "execution_count": null,
   "metadata": {},
   "outputs": [],
   "source": [
    "tup[3]"
   ]
  },
  {
   "cell_type": "code",
   "execution_count": null,
   "metadata": {},
   "outputs": [],
   "source": [
    "empid = 0\n",
    "while empid != -999\n",
    "   d={(input(\"enter employee id\", empid ), input(\"Enter name\"))}\n",
    "    if empid != -999\n",
    "       list 1.append(empid) "
   ]
  },
  {
   "cell_type": "code",
   "execution_count": null,
   "metadata": {},
   "outputs": [],
   "source": [
    "d = {'name' :\" \" , \"age\" :\" \"}\n"
   ]
  },
  {
   "cell_type": "code",
   "execution_count": null,
   "metadata": {},
   "outputs": [],
   "source": [
    "def not_string(str):\n",
    "  if len(str) >= 3 and str[:3] == \"not\":\n",
    "    return str\n",
    "  return \"not \" + str"
   ]
  },
  {
   "cell_type": "code",
   "execution_count": null,
   "metadata": {},
   "outputs": [],
   "source": [
    "def not_string(str):\n",
    " if len(str) >= 3 and str[:3] == \"not\":\n",
    "    return str\n",
    " return \"not \" + str"
   ]
  },
  {
   "cell_type": "code",
   "execution_count": null,
   "metadata": {},
   "outputs": [],
   "source": [
    "def front_back(str):\n",
    "m = str[1:-1]\n",
    "l = str[-1:-2]\n",
    "f = str[0:1]\n",
    "g= l + m + f"
   ]
  },
  {
   "cell_type": "code",
   "execution_count": null,
   "metadata": {},
   "outputs": [],
   "source": [
    "def front_back(str):\n",
    "  if len(str) <= 1:\n",
    "    return str\n",
    "  m = str[1:-1]\n",
    "  l = str[-1]\n",
    "  f = str[0]\n",
    "  return l + m + f\n",
    " \n"
   ]
  },
  {
   "cell_type": "code",
   "execution_count": null,
   "metadata": {},
   "outputs": [],
   "source": [
    "def string_bits(str):\n",
    "  x = range(str[0:], str[:100], 1)\n",
    "  for i in x:\n",
    "    return i"
   ]
  },
  {
   "cell_type": "code",
   "execution_count": null,
   "metadata": {},
   "outputs": [],
   "source": [
    "def array_front9(nums):\n",
    " end = len(nums)\n",
    " if end > 4:\n",
    "    end = 4\n",
    " for i in range(end): \n",
    "   if nums[i] == 9:\n",
    "     \n",
    "     return True\n",
    " return False  \n"
   ]
  },
  {
   "cell_type": "code",
   "execution_count": null,
   "metadata": {},
   "outputs": [],
   "source": [
    "def same_first_last(nums):\n",
    "   if len(nums) > 1:\n",
    "    return True\n",
    "    if nums[0] == 1 or nums[nums.length-1] == 1:\n",
    "        return True\n",
    "   return False"
   ]
  },
  {
   "cell_type": "code",
   "execution_count": null,
   "metadata": {},
   "outputs": [],
   "source": [
    "def input_from_user()\n",
    "area = r**2*math.pi\n",
    "perimeter = 2*math.pi*r\n",
    "return area , perimeter\n",
    "r = int(input(\"enter a radius\"))\n",
    "    print (\"area\" , area)\n",
    "     print (\"perimeter\", perimeter)\n",
    "input_from_user()\n",
    "input_from_user()"
   ]
  },
  {
   "cell_type": "code",
   "execution_count": null,
   "metadata": {},
   "outputs": [],
   "source": [
    "def input():\n",
    "cp = int(input(\"enter cp\" is cp))\n",
    "sp = int(input(\"enter sp\" is sp))\n",
    " return cp,sp\n",
    "\n",
    "def calculate(cp,sp):\n",
    " \n",
    " if cp>sp:\n",
    "    return \"loss\", cp-sp\n",
    " elif cp<sp:\n",
    "    return \"profit\", sp-cp\n",
    " else:\n",
    "        return\"no profit NO loss\", 0\n",
    "\n",
    "    \n",
    "def take_input():\n",
    "\n",
    "inputs = take_input()\n",
    "ans = calculate(inputs[0], inputs[1])\n",
    "print(ans[0], \":\", ans[1])"
   ]
  },
  {
   "cell_type": "code",
   "execution_count": null,
   "metadata": {},
   "outputs": [],
   "source": [
    "def fun(list1):\n",
    "    sumall = 0\n",
    "    for i in list1:\n",
    "        sumall+= i\n",
    "    return sumall    \n",
    "list1=[1,3,6,12,23]\n",
    "print(\"sum of all values are\", fun(list1))"
   ]
  },
  {
   "cell_type": "code",
   "execution_count": null,
   "metadata": {},
   "outputs": [],
   "source": [
    "def fun(list1):\n",
    "    sumall = 0\n",
    "    for i in list1[1::2]:\n",
    "        sumall+= i\n",
    "    return sumall    \n",
    "list1=[1,3,6,2]\n",
    "print(\"sum of all values are\", fun(list1) )"
   ]
  },
  {
   "cell_type": "code",
   "execution_count": null,
   "metadata": {},
   "outputs": [],
   "source": [
    "import sys\n",
    "try:\n",
    "    num= int(input(\"enter 16 digit no.\"))\n",
    "    assert num>16 or num<16,\"error\"\n",
    "    assert num.isupper() or num.islower(),\"error\"\n",
    "    assert num.isalnum() ,\"error\"\n",
    "    assert num.isspace(),\"error\"\n",
    "    assert num[0] == 0, \"error\"\n",
    "except AssertionError:\n",
    "    print(sys.exc_info()[1])\n",
    "else:\n",
    "    print(\"ans\", num)"
   ]
  },
  {
   "cell_type": "code",
   "execution_count": null,
   "metadata": {},
   "outputs": [],
   "source": [
    "import numpy  \n",
    "A = numpy.array([[3, 4, -7], \n",
    "              [4, -11, 20], \n",
    "              [2, -9, -8]]) \n",
    "C = numpy.array([20, 33,22])\n",
    "B= numpy.linalg.inv(A)\n",
    "x = B * A\n",
    "print(x)"
   ]
  },
  {
   "cell_type": "code",
   "execution_count": 5,
   "metadata": {},
   "outputs": [],
   "source": [
    "import pandas\n",
    "df= pandas.read_csv('C:\\\\Users\\\\family\\\\Desktop\\\\students.csv')"
   ]
  },
  {
   "cell_type": "code",
   "execution_count": 6,
   "metadata": {},
   "outputs": [
    {
     "data": {
      "text/plain": [
       "(14, 5)"
      ]
     },
     "execution_count": 6,
     "metadata": {},
     "output_type": "execute_result"
    }
   ],
   "source": [
    "df.shape"
   ]
  },
  {
   "cell_type": "code",
   "execution_count": 7,
   "metadata": {},
   "outputs": [
    {
     "data": {
      "text/plain": [
       "Name       object\n",
       "Class       int64\n",
       "Maths       int64\n",
       "Science     int64\n",
       "English     int64\n",
       "dtype: object"
      ]
     },
     "execution_count": 7,
     "metadata": {},
     "output_type": "execute_result"
    }
   ],
   "source": [
    "df.dtypes"
   ]
  },
  {
   "cell_type": "code",
   "execution_count": 8,
   "metadata": {},
   "outputs": [
    {
     "data": {
      "text/plain": [
       "Index(['Name', 'Class', 'Maths', 'Science', 'English'], dtype='object')"
      ]
     },
     "execution_count": 8,
     "metadata": {},
     "output_type": "execute_result"
    }
   ],
   "source": [
    "df.columns"
   ]
  },
  {
   "cell_type": "code",
   "execution_count": 9,
   "metadata": {},
   "outputs": [],
   "source": [
    "df['percentage']= (df.Maths+ df.Science+ df.English)/3"
   ]
  },
  {
   "cell_type": "code",
   "execution_count": 10,
   "metadata": {},
   "outputs": [
    {
     "data": {
      "text/plain": [
       "0     58.333333\n",
       "1     51.333333\n",
       "2     68.333333\n",
       "3     40.000000\n",
       "4     37.000000\n",
       "5     54.666667\n",
       "6     54.333333\n",
       "7     46.666667\n",
       "8     44.666667\n",
       "9     56.000000\n",
       "10    47.666667\n",
       "11    41.000000\n",
       "12    76.000000\n",
       "13    52.333333\n",
       "Name: percentage, dtype: float64"
      ]
     },
     "execution_count": 10,
     "metadata": {},
     "output_type": "execute_result"
    }
   ],
   "source": [
    "df.percentage"
   ]
  },
  {
   "cell_type": "code",
   "execution_count": 11,
   "metadata": {},
   "outputs": [
    {
     "data": {
      "text/html": [
       "<div>\n",
       "<style scoped>\n",
       "    .dataframe tbody tr th:only-of-type {\n",
       "        vertical-align: middle;\n",
       "    }\n",
       "\n",
       "    .dataframe tbody tr th {\n",
       "        vertical-align: top;\n",
       "    }\n",
       "\n",
       "    .dataframe thead th {\n",
       "        text-align: right;\n",
       "    }\n",
       "</style>\n",
       "<table border=\"1\" class=\"dataframe\">\n",
       "  <thead>\n",
       "    <tr style=\"text-align: right;\">\n",
       "      <th></th>\n",
       "      <th>Name</th>\n",
       "      <th>Class</th>\n",
       "      <th>Maths</th>\n",
       "      <th>Science</th>\n",
       "      <th>English</th>\n",
       "      <th>percentage</th>\n",
       "    </tr>\n",
       "  </thead>\n",
       "  <tbody>\n",
       "    <tr>\n",
       "      <th>0</th>\n",
       "      <td>Amit</td>\n",
       "      <td>1</td>\n",
       "      <td>61</td>\n",
       "      <td>99</td>\n",
       "      <td>15</td>\n",
       "      <td>58.333333</td>\n",
       "    </tr>\n",
       "    <tr>\n",
       "      <th>1</th>\n",
       "      <td>Sumit</td>\n",
       "      <td>2</td>\n",
       "      <td>52</td>\n",
       "      <td>54</td>\n",
       "      <td>48</td>\n",
       "      <td>51.333333</td>\n",
       "    </tr>\n",
       "    <tr>\n",
       "      <th>2</th>\n",
       "      <td>Suman</td>\n",
       "      <td>1</td>\n",
       "      <td>92</td>\n",
       "      <td>80</td>\n",
       "      <td>33</td>\n",
       "      <td>68.333333</td>\n",
       "    </tr>\n",
       "    <tr>\n",
       "      <th>3</th>\n",
       "      <td>Kiran</td>\n",
       "      <td>2</td>\n",
       "      <td>27</td>\n",
       "      <td>27</td>\n",
       "      <td>66</td>\n",
       "      <td>40.000000</td>\n",
       "    </tr>\n",
       "    <tr>\n",
       "      <th>4</th>\n",
       "      <td>Lokesh</td>\n",
       "      <td>1</td>\n",
       "      <td>49</td>\n",
       "      <td>53</td>\n",
       "      <td>9</td>\n",
       "      <td>37.000000</td>\n",
       "    </tr>\n",
       "    <tr>\n",
       "      <th>5</th>\n",
       "      <td>John</td>\n",
       "      <td>1</td>\n",
       "      <td>59</td>\n",
       "      <td>5</td>\n",
       "      <td>100</td>\n",
       "      <td>54.666667</td>\n",
       "    </tr>\n",
       "    <tr>\n",
       "      <th>6</th>\n",
       "      <td>Ankur</td>\n",
       "      <td>1</td>\n",
       "      <td>60</td>\n",
       "      <td>86</td>\n",
       "      <td>17</td>\n",
       "      <td>54.333333</td>\n",
       "    </tr>\n",
       "    <tr>\n",
       "      <th>7</th>\n",
       "      <td>Amitabh</td>\n",
       "      <td>1</td>\n",
       "      <td>13</td>\n",
       "      <td>42</td>\n",
       "      <td>85</td>\n",
       "      <td>46.666667</td>\n",
       "    </tr>\n",
       "    <tr>\n",
       "      <th>8</th>\n",
       "      <td>Anuj</td>\n",
       "      <td>2</td>\n",
       "      <td>52</td>\n",
       "      <td>62</td>\n",
       "      <td>20</td>\n",
       "      <td>44.666667</td>\n",
       "    </tr>\n",
       "    <tr>\n",
       "      <th>9</th>\n",
       "      <td>Hira</td>\n",
       "      <td>2</td>\n",
       "      <td>59</td>\n",
       "      <td>54</td>\n",
       "      <td>55</td>\n",
       "      <td>56.000000</td>\n",
       "    </tr>\n",
       "    <tr>\n",
       "      <th>10</th>\n",
       "      <td>Himendra</td>\n",
       "      <td>1</td>\n",
       "      <td>9</td>\n",
       "      <td>70</td>\n",
       "      <td>64</td>\n",
       "      <td>47.666667</td>\n",
       "    </tr>\n",
       "    <tr>\n",
       "      <th>11</th>\n",
       "      <td>Kartik</td>\n",
       "      <td>2</td>\n",
       "      <td>88</td>\n",
       "      <td>28</td>\n",
       "      <td>7</td>\n",
       "      <td>41.000000</td>\n",
       "    </tr>\n",
       "    <tr>\n",
       "      <th>12</th>\n",
       "      <td>Suresh</td>\n",
       "      <td>1</td>\n",
       "      <td>77</td>\n",
       "      <td>79</td>\n",
       "      <td>72</td>\n",
       "      <td>76.000000</td>\n",
       "    </tr>\n",
       "    <tr>\n",
       "      <th>13</th>\n",
       "      <td>Sunita</td>\n",
       "      <td>2</td>\n",
       "      <td>27</td>\n",
       "      <td>70</td>\n",
       "      <td>60</td>\n",
       "      <td>52.333333</td>\n",
       "    </tr>\n",
       "  </tbody>\n",
       "</table>\n",
       "</div>"
      ],
      "text/plain": [
       "        Name  Class  Maths  Science  English  percentage\n",
       "0       Amit      1     61       99       15   58.333333\n",
       "1      Sumit      2     52       54       48   51.333333\n",
       "2      Suman      1     92       80       33   68.333333\n",
       "3      Kiran      2     27       27       66   40.000000\n",
       "4     Lokesh      1     49       53        9   37.000000\n",
       "5       John      1     59        5      100   54.666667\n",
       "6      Ankur      1     60       86       17   54.333333\n",
       "7    Amitabh      1     13       42       85   46.666667\n",
       "8       Anuj      2     52       62       20   44.666667\n",
       "9       Hira      2     59       54       55   56.000000\n",
       "10  Himendra      1      9       70       64   47.666667\n",
       "11    Kartik      2     88       28        7   41.000000\n",
       "12    Suresh      1     77       79       72   76.000000\n",
       "13    Sunita      2     27       70       60   52.333333"
      ]
     },
     "execution_count": 11,
     "metadata": {},
     "output_type": "execute_result"
    }
   ],
   "source": [
    "df"
   ]
  },
  {
   "cell_type": "code",
   "execution_count": 13,
   "metadata": {},
   "outputs": [
    {
     "name": "stdout",
     "output_type": "stream",
     "text": [
      "        Name  Class  Maths  Science  English  percentage\n",
      "0       Amit      1     61       99       15   58.333333\n",
      "2      Suman      1     92       80       33   68.333333\n",
      "4     Lokesh      1     49       53        9   37.000000\n",
      "5       John      1     59        5      100   54.666667\n",
      "6      Ankur      1     60       86       17   54.333333\n",
      "7    Amitabh      1     13       42       85   46.666667\n",
      "10  Himendra      1      9       70       64   47.666667\n",
      "12    Suresh      1     77       79       72   76.000000\n",
      "      Name  Class  Maths  Science  English  percentage\n",
      "1    Sumit      2     52       54       48   51.333333\n",
      "3    Kiran      2     27       27       66   40.000000\n",
      "8     Anuj      2     52       62       20   44.666667\n",
      "9     Hira      2     59       54       55   56.000000\n",
      "11  Kartik      2     88       28        7   41.000000\n",
      "13  Sunita      2     27       70       60   52.333333\n"
     ]
    }
   ],
   "source": [
    "df1 = df[(df.Class == 1)]\n",
    "df2 = df[(df.Class == 2)]\n",
    "print(df1)\n",
    "print(df2)"
   ]
  },
  {
   "cell_type": "code",
   "execution_count": 14,
   "metadata": {},
   "outputs": [
    {
     "data": {
      "text/plain": [
       "2    Suman\n",
       "Name: Name, dtype: object"
      ]
     },
     "execution_count": 14,
     "metadata": {},
     "output_type": "execute_result"
    }
   ],
   "source": [
    "df1[(df1.Maths == df1.Maths.max())].Name\n"
   ]
  },
  {
   "cell_type": "code",
   "execution_count": 15,
   "metadata": {},
   "outputs": [
    {
     "data": {
      "text/plain": [
       "3    Kiran\n",
       "Name: Name, dtype: object"
      ]
     },
     "execution_count": 15,
     "metadata": {},
     "output_type": "execute_result"
    }
   ],
   "source": [
    "df2[(df2.English == df2.English.max())].Name"
   ]
  },
  {
   "cell_type": "code",
   "execution_count": 16,
   "metadata": {},
   "outputs": [
    {
     "data": {
      "text/plain": [
       "12    Suresh\n",
       "Name: Name, dtype: object"
      ]
     },
     "execution_count": 16,
     "metadata": {},
     "output_type": "execute_result"
    }
   ],
   "source": [
    "df1[(df1.percentage == df1.percentage.max())].Name"
   ]
  },
  {
   "cell_type": "code",
   "execution_count": 17,
   "metadata": {},
   "outputs": [
    {
     "data": {
      "text/html": [
       "<div>\n",
       "<style scoped>\n",
       "    .dataframe tbody tr th:only-of-type {\n",
       "        vertical-align: middle;\n",
       "    }\n",
       "\n",
       "    .dataframe tbody tr th {\n",
       "        vertical-align: top;\n",
       "    }\n",
       "\n",
       "    .dataframe thead th {\n",
       "        text-align: right;\n",
       "    }\n",
       "</style>\n",
       "<table border=\"1\" class=\"dataframe\">\n",
       "  <thead>\n",
       "    <tr style=\"text-align: right;\">\n",
       "      <th></th>\n",
       "      <th>Name</th>\n",
       "      <th>Class</th>\n",
       "    </tr>\n",
       "  </thead>\n",
       "  <tbody>\n",
       "    <tr>\n",
       "      <th>2</th>\n",
       "      <td>Suman</td>\n",
       "      <td>1</td>\n",
       "    </tr>\n",
       "    <tr>\n",
       "      <th>3</th>\n",
       "      <td>Kiran</td>\n",
       "      <td>2</td>\n",
       "    </tr>\n",
       "    <tr>\n",
       "      <th>5</th>\n",
       "      <td>John</td>\n",
       "      <td>1</td>\n",
       "    </tr>\n",
       "  </tbody>\n",
       "</table>\n",
       "</div>"
      ],
      "text/plain": [
       "    Name  Class\n",
       "2  Suman      1\n",
       "3  Kiran      2\n",
       "5   John      1"
      ]
     },
     "execution_count": 17,
     "metadata": {},
     "output_type": "execute_result"
    }
   ],
   "source": [
    "df[(df.Name.str[-1] =='n')][['Name' , 'Class']] "
   ]
  },
  {
   "cell_type": "code",
   "execution_count": 18,
   "metadata": {},
   "outputs": [
    {
     "data": {
      "text/html": [
       "<div>\n",
       "<style scoped>\n",
       "    .dataframe tbody tr th:only-of-type {\n",
       "        vertical-align: middle;\n",
       "    }\n",
       "\n",
       "    .dataframe tbody tr th {\n",
       "        vertical-align: top;\n",
       "    }\n",
       "\n",
       "    .dataframe thead th {\n",
       "        text-align: right;\n",
       "    }\n",
       "</style>\n",
       "<table border=\"1\" class=\"dataframe\">\n",
       "  <thead>\n",
       "    <tr style=\"text-align: right;\">\n",
       "      <th></th>\n",
       "      <th>Name</th>\n",
       "      <th>Class</th>\n",
       "      <th>Maths</th>\n",
       "      <th>Science</th>\n",
       "      <th>English</th>\n",
       "      <th>percentage</th>\n",
       "    </tr>\n",
       "  </thead>\n",
       "  <tbody>\n",
       "    <tr>\n",
       "      <th>5</th>\n",
       "      <td>John</td>\n",
       "      <td>1</td>\n",
       "      <td>59</td>\n",
       "      <td>5</td>\n",
       "      <td>100</td>\n",
       "      <td>54.666667</td>\n",
       "    </tr>\n",
       "    <tr>\n",
       "      <th>7</th>\n",
       "      <td>Amitabh</td>\n",
       "      <td>1</td>\n",
       "      <td>13</td>\n",
       "      <td>42</td>\n",
       "      <td>85</td>\n",
       "      <td>46.666667</td>\n",
       "    </tr>\n",
       "    <tr>\n",
       "      <th>10</th>\n",
       "      <td>Himendra</td>\n",
       "      <td>1</td>\n",
       "      <td>9</td>\n",
       "      <td>70</td>\n",
       "      <td>64</td>\n",
       "      <td>47.666667</td>\n",
       "    </tr>\n",
       "    <tr>\n",
       "      <th>12</th>\n",
       "      <td>Suresh</td>\n",
       "      <td>1</td>\n",
       "      <td>77</td>\n",
       "      <td>79</td>\n",
       "      <td>72</td>\n",
       "      <td>76.000000</td>\n",
       "    </tr>\n",
       "  </tbody>\n",
       "</table>\n",
       "</div>"
      ],
      "text/plain": [
       "        Name  Class  Maths  Science  English  percentage\n",
       "5       John      1     59        5      100   54.666667\n",
       "7    Amitabh      1     13       42       85   46.666667\n",
       "10  Himendra      1      9       70       64   47.666667\n",
       "12    Suresh      1     77       79       72   76.000000"
      ]
     },
     "execution_count": 18,
     "metadata": {},
     "output_type": "execute_result"
    }
   ],
   "source": [
    "df1[df1.English>40]"
   ]
  },
  {
   "cell_type": "code",
   "execution_count": 19,
   "metadata": {},
   "outputs": [
    {
     "data": {
      "text/html": [
       "<div>\n",
       "<style scoped>\n",
       "    .dataframe tbody tr th:only-of-type {\n",
       "        vertical-align: middle;\n",
       "    }\n",
       "\n",
       "    .dataframe tbody tr th {\n",
       "        vertical-align: top;\n",
       "    }\n",
       "\n",
       "    .dataframe thead th {\n",
       "        text-align: right;\n",
       "    }\n",
       "</style>\n",
       "<table border=\"1\" class=\"dataframe\">\n",
       "  <thead>\n",
       "    <tr style=\"text-align: right;\">\n",
       "      <th></th>\n",
       "      <th>Name</th>\n",
       "      <th>Class</th>\n",
       "      <th>Maths</th>\n",
       "      <th>Science</th>\n",
       "      <th>English</th>\n",
       "      <th>percentage</th>\n",
       "    </tr>\n",
       "  </thead>\n",
       "  <tbody>\n",
       "    <tr>\n",
       "      <th>7</th>\n",
       "      <td>Amitabh</td>\n",
       "      <td>1</td>\n",
       "      <td>13</td>\n",
       "      <td>42</td>\n",
       "      <td>85</td>\n",
       "      <td>46.666667</td>\n",
       "    </tr>\n",
       "    <tr>\n",
       "      <th>10</th>\n",
       "      <td>Himendra</td>\n",
       "      <td>1</td>\n",
       "      <td>9</td>\n",
       "      <td>70</td>\n",
       "      <td>64</td>\n",
       "      <td>47.666667</td>\n",
       "    </tr>\n",
       "  </tbody>\n",
       "</table>\n",
       "</div>"
      ],
      "text/plain": [
       "        Name  Class  Maths  Science  English  percentage\n",
       "7    Amitabh      1     13       42       85   46.666667\n",
       "10  Himendra      1      9       70       64   47.666667"
      ]
     },
     "execution_count": 19,
     "metadata": {},
     "output_type": "execute_result"
    }
   ],
   "source": [
    "df1[(df1.Maths<40) & (df1.Science>40) & (df1.English>40)]"
   ]
  },
  {
   "cell_type": "code",
   "execution_count": null,
   "metadata": {},
   "outputs": [],
   "source": []
  }
 ],
 "metadata": {
  "kernelspec": {
   "display_name": "Python 3",
   "language": "python",
   "name": "python3"
  },
  "language_info": {
   "codemirror_mode": {
    "name": "ipython",
    "version": 3
   },
   "file_extension": ".py",
   "mimetype": "text/x-python",
   "name": "python",
   "nbconvert_exporter": "python",
   "pygments_lexer": "ipython3",
   "version": "3.8.5"
  }
 },
 "nbformat": 4,
 "nbformat_minor": 4
}
