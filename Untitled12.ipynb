{
 "cells": [
  {
   "cell_type": "code",
   "execution_count": 1,
   "metadata": {},
   "outputs": [],
   "source": [
    "import mitosheet"
   ]
  },
  {
   "cell_type": "code",
   "execution_count": 2,
   "metadata": {},
   "outputs": [
    {
     "data": {
      "application/vnd.jupyter.widget-view+json": {
       "model_id": "b4481f4af4ce4013aefc5bb93a577323",
       "version_major": 2,
       "version_minor": 0
      },
      "text/plain": [
       "MitoWidget(analysis_data_json='{\"analysisName\": \"UUID-ee33d900-f671-448d-b7c8-439a686abe72\", \"code\": {\"imports…"
      ]
     },
     "metadata": {},
     "output_type": "display_data"
    }
   ],
   "source": [
    "mitosheet.sheet()"
   ]
  },
  {
   "cell_type": "code",
   "execution_count": 4,
   "metadata": {},
   "outputs": [],
   "source": [
    "from mitosheet import *; register_analysis('UUID-ee33d900-f671-448d-b7c8-439a686abe72')\n",
    "\n",
    "# Imported income.csv\n",
    "import pandas as pd\n",
    "income = pd.read_csv(r'income.csv')\n"
   ]
  },
  {
   "cell_type": "code",
   "execution_count": 5,
   "metadata": {},
   "outputs": [
    {
     "data": {
      "text/plain": [
       "0          Rob\n",
       "1      Michael\n",
       "2        Mohan\n",
       "3       Ismail\n",
       "4         Kory\n",
       "5       Gautam\n",
       "6        David\n",
       "7       Andrea\n",
       "8         Brad\n",
       "9     Angelina\n",
       "10      Donald\n",
       "11         Tom\n",
       "12      Arnold\n",
       "13       Jared\n",
       "14       Stark\n",
       "15      Ranbir\n",
       "16      Dipika\n",
       "17    Priyanka\n",
       "18        Nick\n",
       "19        Alia\n",
       "20         Sid\n",
       "21       Abdul\n",
       "Name: Name, dtype: object"
      ]
     },
     "execution_count": 5,
     "metadata": {},
     "output_type": "execute_result"
    }
   ],
   "source": [
    "income.Name"
   ]
  }
 ],
 "metadata": {
  "kernelspec": {
   "display_name": "Python 3",
   "language": "python",
   "name": "python3"
  },
  "language_info": {
   "codemirror_mode": {
    "name": "ipython",
    "version": 3
   },
   "file_extension": ".py",
   "mimetype": "text/x-python",
   "name": "python",
   "nbconvert_exporter": "python",
   "pygments_lexer": "ipython3",
   "version": "3.8.5"
  }
 },
 "nbformat": 4,
 "nbformat_minor": 4
}
